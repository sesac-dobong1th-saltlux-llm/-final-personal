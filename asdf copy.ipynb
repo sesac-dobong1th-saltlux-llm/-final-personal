{
 "cells": [
  {
   "cell_type": "code",
   "execution_count": 1,
   "metadata": {},
   "outputs": [],
   "source": [
    "import json\n",
    "from pathlib import Path\n",
    "from typing import Callable, Dict, List, Optional, Union\n",
    "\n",
    "from langchain_community.document_loaders import JSONLoader"
   ]
  },
  {
   "cell_type": "code",
   "execution_count": 3,
   "metadata": {},
   "outputs": [
    {
     "ename": "ImportError",
     "evalue": "jq package not found, please install it with `pip install jq`",
     "output_type": "error",
     "traceback": [
      "\u001b[1;31m---------------------------------------------------------------------------\u001b[0m",
      "\u001b[1;31mModuleNotFoundError\u001b[0m                       Traceback (most recent call last)",
      "File \u001b[1;32mc:\\Users\\r2com\\AppData\\Local\\Programs\\Python\\Python312\\Lib\\site-packages\\langchain_community\\document_loaders\\json_loader.py:54\u001b[0m, in \u001b[0;36mJSONLoader.__init__\u001b[1;34m(self, file_path, jq_schema, content_key, is_content_key_jq_parsable, metadata_func, text_content, json_lines)\u001b[0m\n\u001b[0;32m     53\u001b[0m \u001b[38;5;28;01mtry\u001b[39;00m:\n\u001b[1;32m---> 54\u001b[0m     \u001b[38;5;28;01mimport\u001b[39;00m \u001b[38;5;21;01mjq\u001b[39;00m\n\u001b[0;32m     56\u001b[0m     \u001b[38;5;28mself\u001b[39m\u001b[38;5;241m.\u001b[39mjq \u001b[38;5;241m=\u001b[39m jq\n",
      "\u001b[1;31mModuleNotFoundError\u001b[0m: No module named 'jq'",
      "\nDuring handling of the above exception, another exception occurred:\n",
      "\u001b[1;31mImportError\u001b[0m                               Traceback (most recent call last)",
      "Cell \u001b[1;32mIn[3], line 1\u001b[0m\n\u001b[1;32m----> 1\u001b[0m loader \u001b[38;5;241m=\u001b[39m \u001b[43mJSONLoader\u001b[49m\u001b[43m(\u001b[49m\n\u001b[0;32m      2\u001b[0m \u001b[43m    \u001b[49m\u001b[43mfile_path\u001b[49m\u001b[38;5;241;43m=\u001b[39;49m\u001b[38;5;124;43m'\u001b[39;49m\u001b[38;5;124;43m./match_data.json\u001b[39;49m\u001b[38;5;124;43m'\u001b[39;49m\u001b[43m,\u001b[49m\n\u001b[0;32m      3\u001b[0m \u001b[43m    \u001b[49m\u001b[43mjq_schema\u001b[49m\u001b[38;5;241;43m=\u001b[39;49m\u001b[38;5;124;43m'\u001b[39;49m\u001b[38;5;124;43m.messages[].content\u001b[39;49m\u001b[38;5;124;43m'\u001b[39;49m\u001b[43m,\u001b[49m\n\u001b[0;32m      4\u001b[0m \u001b[43m    \u001b[49m\u001b[43mtext_content\u001b[49m\u001b[38;5;241;43m=\u001b[39;49m\u001b[38;5;28;43;01mFalse\u001b[39;49;00m\u001b[43m)\u001b[49m\n\u001b[0;32m      6\u001b[0m data \u001b[38;5;241m=\u001b[39m loader\u001b[38;5;241m.\u001b[39mload()\n",
      "File \u001b[1;32mc:\\Users\\r2com\\AppData\\Local\\Programs\\Python\\Python312\\Lib\\site-packages\\langchain_community\\document_loaders\\json_loader.py:58\u001b[0m, in \u001b[0;36mJSONLoader.__init__\u001b[1;34m(self, file_path, jq_schema, content_key, is_content_key_jq_parsable, metadata_func, text_content, json_lines)\u001b[0m\n\u001b[0;32m     56\u001b[0m     \u001b[38;5;28mself\u001b[39m\u001b[38;5;241m.\u001b[39mjq \u001b[38;5;241m=\u001b[39m jq\n\u001b[0;32m     57\u001b[0m \u001b[38;5;28;01mexcept\u001b[39;00m \u001b[38;5;167;01mImportError\u001b[39;00m:\n\u001b[1;32m---> 58\u001b[0m     \u001b[38;5;28;01mraise\u001b[39;00m \u001b[38;5;167;01mImportError\u001b[39;00m(\n\u001b[0;32m     59\u001b[0m         \u001b[38;5;124m\"\u001b[39m\u001b[38;5;124mjq package not found, please install it with `pip install jq`\u001b[39m\u001b[38;5;124m\"\u001b[39m\n\u001b[0;32m     60\u001b[0m     )\n\u001b[0;32m     62\u001b[0m \u001b[38;5;28mself\u001b[39m\u001b[38;5;241m.\u001b[39mfile_path \u001b[38;5;241m=\u001b[39m Path(file_path)\u001b[38;5;241m.\u001b[39mresolve()\n\u001b[0;32m     63\u001b[0m \u001b[38;5;28mself\u001b[39m\u001b[38;5;241m.\u001b[39m_jq_schema \u001b[38;5;241m=\u001b[39m jq\u001b[38;5;241m.\u001b[39mcompile(jq_schema)\n",
      "\u001b[1;31mImportError\u001b[0m: jq package not found, please install it with `pip install jq`"
     ]
    }
   ],
   "source": [
    "loader = JSONLoader(\n",
    "    file_path='./match_data.json',\n",
    "    jq_schema='.messages[].content',\n",
    "    text_content=False)\n",
    "\n",
    "data = loader.load()"
   ]
  },
  {
   "cell_type": "code",
   "execution_count": 9,
   "metadata": {},
   "outputs": [
    {
     "name": "stdout",
     "output_type": "stream",
     "text": [
      "[Document(page_content=''), Document(page_content=''), Document(page_content=''), Document(page_content=''), Document(page_content=''), Document(page_content=''), Document(page_content=''), Document(page_content=''), Document(page_content=''), Document(page_content=''), Document(page_content=''), Document(page_content=''), Document(page_content=''), Document(page_content=''), Document(page_content=''), Document(page_content=''), Document(page_content=''), Document(page_content=''), Document(page_content=''), Document(page_content=''), Document(page_content=''), Document(page_content=''), Document(page_content=''), Document(page_content=''), Document(page_content=''), Document(page_content=''), Document(page_content=''), Document(page_content=''), Document(page_content=''), Document(page_content=''), Document(page_content=''), Document(page_content=''), Document(page_content=''), Document(page_content=''), Document(page_content=''), Document(page_content=''), Document(page_content=''), Document(page_content=''), Document(page_content=''), Document(page_content=''), Document(page_content=''), Document(page_content=''), Document(page_content=''), Document(page_content=''), Document(page_content=''), Document(page_content=''), Document(page_content=''), Document(page_content=''), Document(page_content=''), Document(page_content=''), Document(page_content=''), Document(page_content=''), Document(page_content=''), Document(page_content=''), Document(page_content=''), Document(page_content=''), Document(page_content=''), Document(page_content=''), Document(page_content=''), Document(page_content=''), Document(page_content=''), Document(page_content=''), Document(page_content=''), Document(page_content=''), Document(page_content=''), Document(page_content=''), Document(page_content=''), Document(page_content=''), Document(page_content=''), Document(page_content=''), Document(page_content=''), Document(page_content=''), Document(page_content=''), Document(page_content=''), Document(page_content=''), Document(page_content=''), Document(page_content=''), Document(page_content=''), Document(page_content=''), Document(page_content=''), Document(page_content=''), Document(page_content=''), Document(page_content=''), Document(page_content=''), Document(page_content=''), Document(page_content=''), Document(page_content=''), Document(page_content=''), Document(page_content=''), Document(page_content=''), Document(page_content=''), Document(page_content=''), Document(page_content=''), Document(page_content=''), Document(page_content=''), Document(page_content=''), Document(page_content=''), Document(page_content=''), Document(page_content=''), Document(page_content=''), Document(page_content=''), Document(page_content=''), Document(page_content=''), Document(page_content=''), Document(page_content=''), Document(page_content=''), Document(page_content=''), Document(page_content=''), Document(page_content=''), Document(page_content=''), Document(page_content=''), Document(page_content=''), Document(page_content=''), Document(page_content=''), Document(page_content=''), Document(page_content=''), Document(page_content=''), Document(page_content=''), Document(page_content=''), Document(page_content=''), Document(page_content=''), Document(page_content=''), Document(page_content=''), Document(page_content=''), Document(page_content=''), Document(page_content=''), Document(page_content=''), Document(page_content=''), Document(page_content=''), Document(page_content=''), Document(page_content=''), Document(page_content=''), Document(page_content=''), Document(page_content=''), Document(page_content=''), Document(page_content=''), Document(page_content=''), Document(page_content=''), Document(page_content=''), Document(page_content=''), Document(page_content=''), Document(page_content=''), Document(page_content=''), Document(page_content=''), Document(page_content=''), Document(page_content=''), Document(page_content=''), Document(page_content=''), Document(page_content=''), Document(page_content=''), Document(page_content=''), Document(page_content=''), Document(page_content=''), Document(page_content=''), Document(page_content=''), Document(page_content=''), Document(page_content=''), Document(page_content=''), Document(page_content=''), Document(page_content=''), Document(page_content=''), Document(page_content=''), Document(page_content=''), Document(page_content=''), Document(page_content=''), Document(page_content=''), Document(page_content=''), Document(page_content=''), Document(page_content=''), Document(page_content=''), Document(page_content=''), Document(page_content=''), Document(page_content=''), Document(page_content=''), Document(page_content=''), Document(page_content=''), Document(page_content=''), Document(page_content=''), Document(page_content=''), Document(page_content=''), Document(page_content=''), Document(page_content=''), Document(page_content=''), Document(page_content=''), Document(page_content=''), Document(page_content=''), Document(page_content=''), Document(page_content=''), Document(page_content=''), Document(page_content=''), Document(page_content=''), Document(page_content=''), Document(page_content=''), Document(page_content=''), Document(page_content=''), Document(page_content=''), Document(page_content=''), Document(page_content=''), Document(page_content=''), Document(page_content=''), Document(page_content=''), Document(page_content=''), Document(page_content=''), Document(page_content=''), Document(page_content=''), Document(page_content=''), Document(page_content=''), Document(page_content=''), Document(page_content=''), Document(page_content=''), Document(page_content=''), Document(page_content=''), Document(page_content=''), Document(page_content=''), Document(page_content=''), Document(page_content=''), Document(page_content=''), Document(page_content=''), Document(page_content=''), Document(page_content=''), Document(page_content=''), Document(page_content=''), Document(page_content=''), Document(page_content=''), Document(page_content=''), Document(page_content=''), Document(page_content=''), Document(page_content=''), Document(page_content=''), Document(page_content=''), Document(page_content=''), Document(page_content=''), Document(page_content=''), Document(page_content=''), Document(page_content=''), Document(page_content=''), Document(page_content=''), Document(page_content=''), Document(page_content=''), Document(page_content=''), Document(page_content=''), Document(page_content=''), Document(page_content=''), Document(page_content=''), Document(page_content=''), Document(page_content=''), Document(page_content=''), Document(page_content=''), Document(page_content=''), Document(page_content=''), Document(page_content=''), Document(page_content=''), Document(page_content=''), Document(page_content=''), Document(page_content=''), Document(page_content=''), Document(page_content=''), Document(page_content=''), Document(page_content=''), Document(page_content=''), Document(page_content=''), Document(page_content=''), Document(page_content=''), Document(page_content=''), Document(page_content=''), Document(page_content=''), Document(page_content=''), Document(page_content=''), Document(page_content=''), Document(page_content=''), Document(page_content=''), Document(page_content=''), Document(page_content=''), Document(page_content=''), Document(page_content=''), Document(page_content=''), Document(page_content=''), Document(page_content=''), Document(page_content=''), Document(page_content=''), Document(page_content=''), Document(page_content=''), Document(page_content=''), Document(page_content=''), Document(page_content=''), Document(page_content=''), Document(page_content=''), Document(page_content=''), Document(page_content=''), Document(page_content=''), Document(page_content=''), Document(page_content=''), Document(page_content=''), Document(page_content=''), Document(page_content=''), Document(page_content=''), Document(page_content=''), Document(page_content=''), Document(page_content=''), Document(page_content=''), Document(page_content=''), Document(page_content=''), Document(page_content=''), Document(page_content=''), Document(page_content=''), Document(page_content=''), Document(page_content=''), Document(page_content=''), Document(page_content=''), Document(page_content=''), Document(page_content=''), Document(page_content=''), Document(page_content=''), Document(page_content=''), Document(page_content=''), Document(page_content=''), Document(page_content=''), Document(page_content=''), Document(page_content=''), Document(page_content=''), Document(page_content=''), Document(page_content=''), Document(page_content=''), Document(page_content=''), Document(page_content=''), Document(page_content=''), Document(page_content=''), Document(page_content=''), Document(page_content=''), Document(page_content=''), Document(page_content=''), Document(page_content=''), Document(page_content=''), Document(page_content=''), Document(page_content=''), Document(page_content=''), Document(page_content=''), Document(page_content=''), Document(page_content=''), Document(page_content=''), Document(page_content=''), Document(page_content=''), Document(page_content=''), Document(page_content=''), Document(page_content=''), Document(page_content=''), Document(page_content=''), Document(page_content=''), Document(page_content=''), Document(page_content=''), Document(page_content=''), Document(page_content=''), Document(page_content=''), Document(page_content=''), Document(page_content=''), Document(page_content=''), Document(page_content=''), Document(page_content=''), Document(page_content=''), Document(page_content=''), Document(page_content=''), Document(page_content=''), Document(page_content=''), Document(page_content=''), Document(page_content=''), Document(page_content=''), Document(page_content=''), Document(page_content=''), Document(page_content=''), Document(page_content=''), Document(page_content=''), Document(page_content=''), Document(page_content=''), Document(page_content=''), Document(page_content=''), Document(page_content=''), Document(page_content=''), Document(page_content=''), Document(page_content=''), Document(page_content=''), Document(page_content=''), Document(page_content=''), Document(page_content=''), Document(page_content=''), Document(page_content=''), Document(page_content=''), Document(page_content=''), Document(page_content=''), Document(page_content=''), Document(page_content=''), Document(page_content=''), Document(page_content=''), Document(page_content=''), Document(page_content=''), Document(page_content=''), Document(page_content=''), Document(page_content=''), Document(page_content=''), Document(page_content=''), Document(page_content=''), Document(page_content=''), Document(page_content=''), Document(page_content=''), Document(page_content=''), Document(page_content=''), Document(page_content=''), Document(page_content=''), Document(page_content=''), Document(page_content=''), Document(page_content=''), Document(page_content=''), Document(page_content=''), Document(page_content=''), Document(page_content=''), Document(page_content=''), Document(page_content=''), Document(page_content=''), Document(page_content=''), Document(page_content=''), Document(page_content=''), Document(page_content=''), Document(page_content=''), Document(page_content=''), Document(page_content=''), Document(page_content=''), Document(page_content=''), Document(page_content=''), Document(page_content=''), Document(page_content=''), Document(page_content=''), Document(page_content=''), Document(page_content=''), Document(page_content=''), Document(page_content=''), Document(page_content=''), Document(page_content=''), Document(page_content=''), Document(page_content=''), Document(page_content=''), Document(page_content=''), Document(page_content=''), Document(page_content=''), Document(page_content=''), Document(page_content=''), Document(page_content=''), Document(page_content=''), Document(page_content=''), Document(page_content=''), Document(page_content=''), Document(page_content=''), Document(page_content=''), Document(page_content=''), Document(page_content=''), Document(page_content=''), Document(page_content=''), Document(page_content=''), Document(page_content=''), Document(page_content=''), Document(page_content=''), Document(page_content=''), Document(page_content=''), Document(page_content=''), Document(page_content=''), Document(page_content=''), Document(page_content=''), Document(page_content=''), Document(page_content=''), Document(page_content=''), Document(page_content=''), Document(page_content=''), Document(page_content=''), Document(page_content=''), Document(page_content=''), Document(page_content=''), Document(page_content=''), Document(page_content=''), Document(page_content=''), Document(page_content=''), Document(page_content=''), Document(page_content=''), Document(page_content=''), Document(page_content=''), Document(page_content=''), Document(page_content=''), Document(page_content=''), Document(page_content=''), Document(page_content=''), Document(page_content=''), Document(page_content=''), Document(page_content=''), Document(page_content=''), Document(page_content=''), Document(page_content=''), Document(page_content=''), Document(page_content=''), Document(page_content=''), Document(page_content=''), Document(page_content=''), Document(page_content=''), Document(page_content=''), Document(page_content=''), Document(page_content=''), Document(page_content=''), Document(page_content=''), Document(page_content=''), Document(page_content=''), Document(page_content=''), Document(page_content=''), Document(page_content=''), Document(page_content=''), Document(page_content=''), Document(page_content=''), Document(page_content=''), Document(page_content=''), Document(page_content=''), Document(page_content=''), Document(page_content=''), Document(page_content=''), Document(page_content=''), Document(page_content=''), Document(page_content=''), Document(page_content=''), Document(page_content=''), Document(page_content=''), Document(page_content=''), Document(page_content=''), Document(page_content=''), Document(page_content=''), Document(page_content=''), Document(page_content=''), Document(page_content=''), Document(page_content=''), Document(page_content=''), Document(page_content=''), Document(page_content=''), Document(page_content=''), Document(page_content=''), Document(page_content=''), Document(page_content=''), Document(page_content=''), Document(page_content=''), Document(page_content=''), Document(page_content=''), Document(page_content=''), Document(page_content=''), Document(page_content=''), Document(page_content=''), Document(page_content=''), Document(page_content=''), Document(page_content=''), Document(page_content=''), Document(page_content=''), Document(page_content=''), Document(page_content=''), Document(page_content=''), Document(page_content=''), Document(page_content=''), Document(page_content=''), Document(page_content=''), Document(page_content=''), Document(page_content=''), Document(page_content=''), Document(page_content=''), Document(page_content=''), Document(page_content=''), Document(page_content=''), Document(page_content=''), Document(page_content=''), Document(page_content=''), Document(page_content=''), Document(page_content=''), Document(page_content=''), Document(page_content=''), Document(page_content=''), Document(page_content=''), Document(page_content=''), Document(page_content=''), Document(page_content=''), Document(page_content=''), Document(page_content=''), Document(page_content=''), Document(page_content=''), Document(page_content=''), Document(page_content=''), Document(page_content=''), Document(page_content=''), Document(page_content=''), Document(page_content=''), Document(page_content=''), Document(page_content=''), Document(page_content=''), Document(page_content=''), Document(page_content=''), Document(page_content=''), Document(page_content=''), Document(page_content=''), Document(page_content=''), Document(page_content=''), Document(page_content=''), Document(page_content=''), Document(page_content=''), Document(page_content=''), Document(page_content=''), Document(page_content=''), Document(page_content=''), Document(page_content=''), Document(page_content=''), Document(page_content=''), Document(page_content=''), Document(page_content=''), Document(page_content=''), Document(page_content=''), Document(page_content=''), Document(page_content=''), Document(page_content=''), Document(page_content=''), Document(page_content=''), Document(page_content=''), Document(page_content=''), Document(page_content=''), Document(page_content=''), Document(page_content=''), Document(page_content=''), Document(page_content=''), Document(page_content=''), Document(page_content=''), Document(page_content=''), Document(page_content=''), Document(page_content=''), Document(page_content=''), Document(page_content=''), Document(page_content=''), Document(page_content=''), Document(page_content=''), Document(page_content='')]\n"
     ]
    }
   ],
   "source": [
    "data=loader.load()\n",
    "print(data)"
   ]
  },
  {
   "cell_type": "code",
   "execution_count": 4,
   "metadata": {},
   "outputs": [
    {
     "data": {
      "text/plain": [
       "True"
      ]
     },
     "execution_count": 4,
     "metadata": {},
     "output_type": "execute_result"
    }
   ],
   "source": [
    "from dotenv import load_dotenv\n",
    "\n",
    "# .env 파일 로드\n",
    "load_dotenv()"
   ]
  },
  {
   "cell_type": "code",
   "execution_count": 5,
   "metadata": {},
   "outputs": [],
   "source": [
    "from langchain_community.vectorstores import FAISS\n",
    "from langchain_openai import OpenAIEmbeddings\n",
    "from langchain_text_splitters import CharacterTextSplitter\n",
    "\n",
    "# 문서를 로드합니다.\n",
    "documents = loader.load()\n",
    "# 문자 기반으로 텍스트를 분할하는 CharacterTextSplitter를 생성합니다. 청크 크기는 1000이고 청크 간 중복은 없습니다.\n",
    "text_splitter = CharacterTextSplitter(chunk_size=300, chunk_overlap=0)\n",
    "# 로드된 문서를 분할합니다.\n",
    "texts = text_splitter.split_documents(documents)\n",
    "# OpenAI 임베딩을 생성합니다.\n",
    "embeddings = OpenAIEmbeddings()\n"
   ]
  },
  {
   "cell_type": "code",
   "execution_count": 7,
   "metadata": {},
   "outputs": [
    {
     "ename": "IndexError",
     "evalue": "list index out of range",
     "output_type": "error",
     "traceback": [
      "\u001b[1;31m---------------------------------------------------------------------------\u001b[0m",
      "\u001b[1;31mIndexError\u001b[0m                                Traceback (most recent call last)",
      "Cell \u001b[1;32mIn[7], line 2\u001b[0m\n\u001b[0;32m      1\u001b[0m \u001b[38;5;66;03m# 분할된 텍스트와 임베딩을 사용하여 FAISS 벡터 데이터베이스를 생성합니다.\u001b[39;00m\n\u001b[1;32m----> 2\u001b[0m db \u001b[38;5;241m=\u001b[39m \u001b[43mFAISS\u001b[49m\u001b[38;5;241;43m.\u001b[39;49m\u001b[43mfrom_documents\u001b[49m\u001b[43m(\u001b[49m\u001b[43mtexts\u001b[49m\u001b[43m,\u001b[49m\u001b[43m \u001b[49m\u001b[43membeddings\u001b[49m\u001b[43m)\u001b[49m\n",
      "File \u001b[1;32mc:\\Users\\r2com\\AppData\\Local\\Programs\\Python\\Python312\\Lib\\site-packages\\langchain_core\\vectorstores.py:550\u001b[0m, in \u001b[0;36mVectorStore.from_documents\u001b[1;34m(cls, documents, embedding, **kwargs)\u001b[0m\n\u001b[0;32m    548\u001b[0m texts \u001b[38;5;241m=\u001b[39m [d\u001b[38;5;241m.\u001b[39mpage_content \u001b[38;5;28;01mfor\u001b[39;00m d \u001b[38;5;129;01min\u001b[39;00m documents]\n\u001b[0;32m    549\u001b[0m metadatas \u001b[38;5;241m=\u001b[39m [d\u001b[38;5;241m.\u001b[39mmetadata \u001b[38;5;28;01mfor\u001b[39;00m d \u001b[38;5;129;01min\u001b[39;00m documents]\n\u001b[1;32m--> 550\u001b[0m \u001b[38;5;28;01mreturn\u001b[39;00m \u001b[38;5;28;43mcls\u001b[39;49m\u001b[38;5;241;43m.\u001b[39;49m\u001b[43mfrom_texts\u001b[49m\u001b[43m(\u001b[49m\u001b[43mtexts\u001b[49m\u001b[43m,\u001b[49m\u001b[43m \u001b[49m\u001b[43membedding\u001b[49m\u001b[43m,\u001b[49m\u001b[43m \u001b[49m\u001b[43mmetadatas\u001b[49m\u001b[38;5;241;43m=\u001b[39;49m\u001b[43mmetadatas\u001b[49m\u001b[43m,\u001b[49m\u001b[43m \u001b[49m\u001b[38;5;241;43m*\u001b[39;49m\u001b[38;5;241;43m*\u001b[39;49m\u001b[43mkwargs\u001b[49m\u001b[43m)\u001b[49m\n",
      "File \u001b[1;32mc:\\Users\\r2com\\AppData\\Local\\Programs\\Python\\Python312\\Lib\\site-packages\\langchain_community\\vectorstores\\faiss.py:931\u001b[0m, in \u001b[0;36mFAISS.from_texts\u001b[1;34m(cls, texts, embedding, metadatas, ids, **kwargs)\u001b[0m\n\u001b[0;32m    912\u001b[0m \u001b[38;5;250m\u001b[39m\u001b[38;5;124;03m\"\"\"Construct FAISS wrapper from raw documents.\u001b[39;00m\n\u001b[0;32m    913\u001b[0m \n\u001b[0;32m    914\u001b[0m \u001b[38;5;124;03mThis is a user friendly interface that:\u001b[39;00m\n\u001b[1;32m   (...)\u001b[0m\n\u001b[0;32m    928\u001b[0m \u001b[38;5;124;03m        faiss = FAISS.from_texts(texts, embeddings)\u001b[39;00m\n\u001b[0;32m    929\u001b[0m \u001b[38;5;124;03m\"\"\"\u001b[39;00m\n\u001b[0;32m    930\u001b[0m embeddings \u001b[38;5;241m=\u001b[39m embedding\u001b[38;5;241m.\u001b[39membed_documents(texts)\n\u001b[1;32m--> 931\u001b[0m \u001b[38;5;28;01mreturn\u001b[39;00m \u001b[38;5;28;43mcls\u001b[39;49m\u001b[38;5;241;43m.\u001b[39;49m\u001b[43m__from\u001b[49m\u001b[43m(\u001b[49m\n\u001b[0;32m    932\u001b[0m \u001b[43m    \u001b[49m\u001b[43mtexts\u001b[49m\u001b[43m,\u001b[49m\n\u001b[0;32m    933\u001b[0m \u001b[43m    \u001b[49m\u001b[43membeddings\u001b[49m\u001b[43m,\u001b[49m\n\u001b[0;32m    934\u001b[0m \u001b[43m    \u001b[49m\u001b[43membedding\u001b[49m\u001b[43m,\u001b[49m\n\u001b[0;32m    935\u001b[0m \u001b[43m    \u001b[49m\u001b[43mmetadatas\u001b[49m\u001b[38;5;241;43m=\u001b[39;49m\u001b[43mmetadatas\u001b[49m\u001b[43m,\u001b[49m\n\u001b[0;32m    936\u001b[0m \u001b[43m    \u001b[49m\u001b[43mids\u001b[49m\u001b[38;5;241;43m=\u001b[39;49m\u001b[43mids\u001b[49m\u001b[43m,\u001b[49m\n\u001b[0;32m    937\u001b[0m \u001b[43m    \u001b[49m\u001b[38;5;241;43m*\u001b[39;49m\u001b[38;5;241;43m*\u001b[39;49m\u001b[43mkwargs\u001b[49m\u001b[43m,\u001b[49m\n\u001b[0;32m    938\u001b[0m \u001b[43m\u001b[49m\u001b[43m)\u001b[49m\n",
      "File \u001b[1;32mc:\\Users\\r2com\\AppData\\Local\\Programs\\Python\\Python312\\Lib\\site-packages\\langchain_community\\vectorstores\\faiss.py:888\u001b[0m, in \u001b[0;36mFAISS.__from\u001b[1;34m(cls, texts, embeddings, embedding, metadatas, ids, normalize_L2, distance_strategy, **kwargs)\u001b[0m\n\u001b[0;32m    885\u001b[0m     index \u001b[38;5;241m=\u001b[39m faiss\u001b[38;5;241m.\u001b[39mIndexFlatIP(\u001b[38;5;28mlen\u001b[39m(embeddings[\u001b[38;5;241m0\u001b[39m]))\n\u001b[0;32m    886\u001b[0m \u001b[38;5;28;01melse\u001b[39;00m:\n\u001b[0;32m    887\u001b[0m     \u001b[38;5;66;03m# Default to L2, currently other metric types not initialized.\u001b[39;00m\n\u001b[1;32m--> 888\u001b[0m     index \u001b[38;5;241m=\u001b[39m faiss\u001b[38;5;241m.\u001b[39mIndexFlatL2(\u001b[38;5;28mlen\u001b[39m(\u001b[43membeddings\u001b[49m\u001b[43m[\u001b[49m\u001b[38;5;241;43m0\u001b[39;49m\u001b[43m]\u001b[49m))\n\u001b[0;32m    889\u001b[0m docstore \u001b[38;5;241m=\u001b[39m kwargs\u001b[38;5;241m.\u001b[39mpop(\u001b[38;5;124m\"\u001b[39m\u001b[38;5;124mdocstore\u001b[39m\u001b[38;5;124m\"\u001b[39m, InMemoryDocstore())\n\u001b[0;32m    890\u001b[0m index_to_docstore_id \u001b[38;5;241m=\u001b[39m kwargs\u001b[38;5;241m.\u001b[39mpop(\u001b[38;5;124m\"\u001b[39m\u001b[38;5;124mindex_to_docstore_id\u001b[39m\u001b[38;5;124m\"\u001b[39m, {})\n",
      "\u001b[1;31mIndexError\u001b[0m: list index out of range"
     ]
    }
   ],
   "source": [
    "# 분할된 텍스트와 임베딩을 사용하여 FAISS 벡터 데이터베이스를 생성합니다.\n",
    "db = FAISS.from_documents(texts, embeddings)"
   ]
  },
  {
   "cell_type": "code",
   "execution_count": 6,
   "metadata": {},
   "outputs": [],
   "source": [
    "embedded_texts = embeddings.embed_documents(texts)\n",
    "\n",
    "# 임베딩 결과를 확인합니다.\n",
    "for i, embedded_text in enumerate(embedded_texts):\n",
    "    print(f\"Text {i+1} embedding:\")\n",
    "    print(embedded_text)"
   ]
  }
 ],
 "metadata": {
  "kernelspec": {
   "display_name": "Python 3",
   "language": "python",
   "name": "python3"
  },
  "language_info": {
   "codemirror_mode": {
    "name": "ipython",
    "version": 3
   },
   "file_extension": ".py",
   "mimetype": "text/x-python",
   "name": "python",
   "nbconvert_exporter": "python",
   "pygments_lexer": "ipython3",
   "version": "3.12.1"
  }
 },
 "nbformat": 4,
 "nbformat_minor": 2
}
