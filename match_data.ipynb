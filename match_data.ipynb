{
 "cells": [
  {
   "cell_type": "code",
   "execution_count": 1,
   "metadata": {},
   "outputs": [
    {
     "name": "stdout",
     "output_type": "stream",
     "text": [
      "   rank                          playerId\n",
      "0     1  0b125013f2fac3966feb887549805cbd\n",
      "1     2  7963c1386bdbfd6b670a00719f0a6920\n",
      "2     3  1d876b79f75432619a5d2f93058ab6d2\n",
      "3     4  05e0afd5b4664eeedeef33b9ddb83609\n",
      "4     5  697ba5f3dafefbfb616a06cff14e02f5\n",
      "5     6  240313ba366545d05955396369fb205e\n",
      "6     7  fa339da933e2a3299c854a080c0220b9\n",
      "7     7  26326d53a4dc5403b5b0541d3e935e87\n",
      "8     7  1d01a2d3c8d9e17757e897591b2cb57d\n",
      "9    10  46c8b7e5d6cd6e15425917359617a85f\n"
     ]
    }
   ],
   "source": [
    "import pandas as pd\n",
    "\n",
    "# CSV 파일을 데이터프레임으로 불러오기\n",
    "df = pd.read_csv(\"ranking_data.csv\")\n",
    "\n",
    "# rank와 playerId 열만 선택하여 새로운 데이터프레임 만들기\n",
    "selected_columns = ['rank', 'playerId']\n",
    "selected_df = df[selected_columns]\n",
    "\n",
    "# 결과 출력\n",
    "print(selected_df)"
   ]
  },
  {
   "cell_type": "code",
   "execution_count": 2,
   "metadata": {},
   "outputs": [
    {
     "name": "stdout",
     "output_type": "stream",
     "text": [
      "                                               matchId\n",
      "0    272fbda2d71b9654fe7bb977eb77901f905c847bfb3eba...\n",
      "1    af57a2b039112a392656de6f3a4ad6451a6e62642154f9...\n",
      "2    aa90eab5913504bd3ab07d6cfb1fbe7822f1de00457384...\n",
      "3    028826905518b2fe890b561e73d3291a66f1daa982cdfd...\n",
      "4    7d1d3cfcfbaf303350917df7b447e7f4ea157b65ee786a...\n",
      "..                                                 ...\n",
      "892  f709463bc8e8d5f11fef8e5d5114eb7b2ace5974e2bfdd...\n",
      "894  bfa1ed364d718bd7c2762cc516a3a95c4273bcf0d707d3...\n",
      "895  f28f659eb01f8ed47010774ef6851e4f5fae0269e5c40f...\n",
      "896  bd63da3c5fe961943b4929c21dd62d6ae8f465f2fb6cbf...\n",
      "901  e7ea82b388c1b48f22628901c0c8c8b230084859ffe111...\n",
      "\n",
      "[640 rows x 1 columns]\n"
     ]
    }
   ],
   "source": [
    "import requests\n",
    "import json\n",
    "\n",
    "# API 관련 설정\n",
    "base_url = \"https://api.neople.co.kr/cy/players/{}/matches\"\n",
    "api_key = \"BXVbXvZz67zzWlrt9PX0RvYdZZUQAEAh\"\n",
    "game_type_id = \"rating\"\n",
    "start_date = \"<startDate>\"\n",
    "end_date = \"<endDate>\"\n",
    "limit = \"100\"\n",
    "\n",
    "# match_id를 저장할 빈 리스트 생성\n",
    "match_ids = []\n",
    "\n",
    "# 각 playerId에 대해 fetch_matches 호출하여 match_id 추출\n",
    "for player_id in selected_df['playerId']:\n",
    "    next_token = None\n",
    "    while True:\n",
    "        # fetch_matches 함수 정의\n",
    "        def fetch_matches(player_id, game_type_id, start_date, end_date, limit, next_token):\n",
    "            url = f\"{base_url.format(player_id)}?gameTypeId={game_type_id}&limit={limit}&apikey={api_key}\"\n",
    "            if next_token:\n",
    "                url += f\"&next={next_token}\"\n",
    "            response = requests.get(url)\n",
    "            \n",
    "            return response.json()\n",
    "        \n",
    "        matches_data = fetch_matches(player_id, game_type_id, start_date, end_date, limit, next_token)\n",
    "\n",
    "\n",
    "        \n",
    "\n",
    "\n",
    "\n",
    "        # match_id 추출\n",
    "        for match in matches_data['matches']['rows']:\n",
    "            match_ids.append(match['matchId'])\n",
    "        \n",
    "        # 다음 페이지 확인\n",
    "        if 'next' in matches_data:\n",
    "            next_token = matches_data['next']\n",
    "        else:\n",
    "            break\n",
    "\n",
    "# 추출된 match_id를 DataFrame에 저장\n",
    "match_id_df = pd.DataFrame({'matchId': match_ids})\n",
    "\n",
    "# 중복된 값 제거\n",
    "match_id_df_uniq = match_id_df.drop_duplicates()\n",
    "\n",
    "# 결과 확인\n",
    "print(match_id_df_uniq)"
   ]
  },
  {
   "cell_type": "code",
   "execution_count": 3,
   "metadata": {},
   "outputs": [],
   "source": [
    "match_id_df_uniq.to_csv('match_ids.csv', index=False)"
   ]
  },
  {
   "cell_type": "code",
   "execution_count": 4,
   "metadata": {},
   "outputs": [
    {
     "name": "stdout",
     "output_type": "stream",
     "text": [
      "Failed to retrieve data for match ID: 272fbda2d71b9654fe7bb977eb77901f905c847bfb3eba580c5fe3d46fbe2f00\n",
      "Failed to retrieve data for match ID: aa90eab5913504bd3ab07d6cfb1fbe7822f1de004573841875f7e995bafc0fae\n",
      "Failed to retrieve data for match ID: 028826905518b2fe890b561e73d3291a66f1daa982cdfd1a7dbc8ff0a4b360c3\n",
      "Failed to retrieve data for match ID: 7d1d3cfcfbaf303350917df7b447e7f4ea157b65ee786ac6e3e1c7672ad98caf\n",
      "Failed to retrieve data for match ID: a118c8be924a9379fb92e9a33b00cbb6ebc93255147065967cc962f61dcde27b\n"
     ]
    }
   ],
   "source": [
    "# 저장된 match IDs를 읽어옵니다.\n",
    "match_ids_df = pd.read_csv('match_ids.csv')\n",
    "\n",
    "# API 키를 설정합니다.\n",
    "api_key = 'BXVbXvZz67zzWlrt9PX0RvYdZZUQAEAh'\n",
    "\n",
    "# 각 match ID에 대한 데이터를 저장할 빈 리스트를 생성합니다.\n",
    "all_match_data = []\n",
    "\n",
    "# 각 match ID에 대해 API를 호출하여 데이터를 가져옵니다.\n",
    "for match_id in match_ids_df['matchId']:\n",
    "    url = f'https://api.neople.co.kr/cy/matches/{match_id}?&apikey={api_key}'\n",
    "    response = requests.get(url)\n",
    "    \n",
    "    if response.status_code == 200:\n",
    "        match_data = response.json()\n",
    "        all_match_data.append(match_data)\n",
    "    else:\n",
    "        print(f\"Failed to retrieve data for match ID: {match_id}\")\n",
    "\n"
   ]
  },
  {
   "cell_type": "code",
   "execution_count": 5,
   "metadata": {},
   "outputs": [],
   "source": [
    "import json\n",
    "with open('match_data.json', 'w', encoding='utf-8') as f:\n",
    "    json.dump(all_match_data, f, ensure_ascii=False, indent=4)"
   ]
  }
 ],
 "metadata": {
  "kernelspec": {
   "display_name": "base",
   "language": "python",
   "name": "python3"
  },
  "language_info": {
   "codemirror_mode": {
    "name": "ipython",
    "version": 3
   },
   "file_extension": ".py",
   "mimetype": "text/x-python",
   "name": "python",
   "nbconvert_exporter": "python",
   "pygments_lexer": "ipython3",
   "version": "3.12.1"
  }
 },
 "nbformat": 4,
 "nbformat_minor": 2
}
